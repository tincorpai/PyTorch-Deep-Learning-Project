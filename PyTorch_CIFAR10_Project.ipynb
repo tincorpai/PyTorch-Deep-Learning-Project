{
  "nbformat": 4,
  "nbformat_minor": 0,
  "metadata": {
    "colab": {
      "provenance": [],
      "authorship_tag": "ABX9TyNj6/JQwavcQBUgdQ/jV8L7",
      "include_colab_link": true
    },
    "kernelspec": {
      "name": "python3",
      "display_name": "Python 3"
    },
    "language_info": {
      "name": "python"
    }
  },
  "cells": [
    {
      "cell_type": "markdown",
      "metadata": {
        "id": "view-in-github",
        "colab_type": "text"
      },
      "source": [
        "<a href=\"https://colab.research.google.com/github/tincorpai/PyTorch-Deep-Learning-Project/blob/master/PyTorch_CIFAR10_Project.ipynb\" target=\"_parent\"><img src=\"https://colab.research.google.com/assets/colab-badge.svg\" alt=\"Open In Colab\"/></a>"
      ]
    },
    {
      "cell_type": "markdown",
      "source": [
        "# Deep learning project using CIFAR-10 Dataset "
      ],
      "metadata": {
        "id": "PKRZRbj_HndY"
      }
    },
    {
      "cell_type": "markdown",
      "source": [
        "The CIFAR-10 Dataset is collection of images that are commonly used to train machine learning and computer vision algorithms. \n",
        "\n",
        "It is the most widely used dataset for machine learning research . It contains 60,000 32x32 color images in 10 different classes and\n",
        "the 10 different classes represent airplanes, cars, birds, cats, deer, dogs, frogs, horses, ships, and trucks. There are 6,000 images of each class.."
      ],
      "metadata": {
        "id": "Rr6kUW4FzOTd"
      }
    },
    {
      "cell_type": "code",
      "source": [],
      "metadata": {
        "id": "jhn5qS8ZHue1"
      },
      "execution_count": null,
      "outputs": []
    }
  ]
}